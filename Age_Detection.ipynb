{
  "nbformat": 4,
  "nbformat_minor": 0,
  "metadata": {
    "colab": {
      "provenance": []
    },
    "kernelspec": {
      "name": "python3",
      "display_name": "Python 3"
    },
    "language_info": {
      "name": "python"
    },
    "accelerator": "GPU",
    "gpuClass": "standard"
  },
  "cells": [
    {
      "cell_type": "markdown",
      "metadata": {
        "id": "view-in-github"
      },
      "source": [
        "<a href=\"https://colab.research.google.com/github/TheProgrammingArchive/EmotionDetection/blob/main/Age_Detection.ipynb\" target=\"_parent\"><img src=\"https://colab.research.google.com/assets/colab-badge.svg\" alt=\"Open In Colab\"/></a>"
      ]
    },
    {
      "cell_type": "code",
      "source": [
        "import numpy as np\n",
        "from keras.utils import img_to_array\n",
        "import matplotlib.pyplot as plt\n",
        "\n",
        "X_labels, y_labels = [], []\n",
        "for images in os.listdir('/content/drive/utkface_aligned_cropped/UTKFace'):\n",
        "  img = cv2.imread(f'/content/drive/utkface_aligned_cropped/UTKFace/{images}', cv2.IMREAD_GRAYSCALE)\n",
        "  img = cv2.resize(img, (48, 48))\n",
        "\n",
        "  img_arr = img_to_array(img)\n",
        "\n",
        "  y_labels.append(images.split('_')[0])\n",
        "  X_labels.append(img_arr)"
      ],
      "metadata": {
        "id": "zOWhh-5oCTMP"
      },
      "execution_count": null,
      "outputs": []
    },
    {
      "cell_type": "code",
      "source": [
        "len(X_train), len(y_train)"
      ],
      "metadata": {
        "colab": {
          "base_uri": "https://localhost:8080/"
        },
        "id": "ZNvZWSEt-xsw",
        "outputId": "2a1a31e4-7784-48d0-85cf-0061661ca39a"
      },
      "execution_count": null,
      "outputs": [
        {
          "output_type": "execute_result",
          "data": {
            "text/plain": [
              "(19000, 19000)"
            ]
          },
          "metadata": {},
          "execution_count": 9
        }
      ]
    },
    {
      "cell_type": "code",
      "source": [
        "X_train, y_train = X_labels[0:19000], y_labels[0:19000]\n",
        "X_test, y_test = X_labels[19000:len(X_labels)], y_labels[19000:len(y_labels)]"
      ],
      "metadata": {
        "id": "Rc2Tz-7iHovy"
      },
      "execution_count": null,
      "outputs": []
    },
    {
      "cell_type": "code",
      "source": [
        "plt.imshow(np.squeeze(X_train[434]))\n",
        "print(y_train[434])"
      ],
      "metadata": {
        "colab": {
          "base_uri": "https://localhost:8080/",
          "height": 284
        },
        "id": "_9nPxZ60MRxK",
        "outputId": "b9f15c9c-e541-470b-edaa-8d3d8c51084f"
      },
      "execution_count": null,
      "outputs": [
        {
          "output_type": "stream",
          "name": "stdout",
          "text": [
            "26\n"
          ]
        },
        {
          "output_type": "display_data",
          "data": {
            "text/plain": [
              "<Figure size 432x288 with 1 Axes>"
            ],
            "image/png": "[encoded data removed]"
          },
          "metadata": {
            "needs_background": "light"
          }
        }
      ]
    },
    {
      "cell_type": "code",
      "source": [
        "import tensorflow as tf\n",
        "\n",
        "model = tf.keras.Sequential([\n",
        "    tf.keras.layers.Conv2D(32, kernel_size=(3, 3), activation='relu', input_shape=(48, 48, 1)),\n",
        "    tf.keras.layers.Conv2D(64, kernel_size=(3, 3), activation='relu'),\n",
        "    tf.keras.layers.BatchNormalization(),\n",
        "    tf.keras.layers.MaxPooling2D((2, 2)),\n",
        "    tf.keras.layers.Dropout(0.25),\n",
        "\n",
        "    tf.keras.layers.Conv2D(128, kernel_size=(3, 3), activation='relu'),\n",
        "    tf.keras.layers.Conv2D(256, kernel_size=(3, 3), activation='relu'),\n",
        "    tf.keras.layers.BatchNormalization(),\n",
        "    tf.keras.layers.MaxPooling2D((2, 2)),\n",
        "    tf.keras.layers.Dropout(0.25),\n",
        "\n",
        "    tf.keras.layers.Flatten(),\n",
        "    tf.keras.layers.Dense(1024, activation='relu'),\n",
        "    tf.keras.layers.Dense(512, activation='relu'),\n",
        "    tf.keras.layers.Dropout(0.25),\n",
        "    tf.keras.layers.Dense(1, activation='relu'),\n",
        "])\n",
        "\n",
        "model.compile(loss='mean_squared_error',\n",
        "              optimizer=tf.keras.optimizers.Adam(lr=0.001),\n",
        "              metrics=['mae'])"
      ],
      "metadata": {
        "colab": {
          "base_uri": "https://localhost:8080/"
        },
        "id": "z6mKly22Jo2q",
        "outputId": "77a8d9d3-7d46-4f57-9110-f7e7ba0aa6fd"
      },
      "execution_count": null,
      "outputs": [
        {
          "output_type": "stream",
          "name": "stderr",
          "text": [
            "/usr/local/lib/python3.8/dist-packages/keras/optimizers/optimizer_v2/adam.py:110: UserWarning: The `lr` argument is deprecated, use `learning_rate` instead.\n",
            "  super(Adam, self).__init__(name, **kwargs)\n"
          ]
        }
      ]
    },
    {
      "cell_type": "code",
      "source": [
        "from tensorflow.keras.preprocessing.image import ImageDataGenerator\n",
        "\n",
        "train_datagen = ImageDataGenerator(rescale=1/255, width_shift_range=0.1, height_shift_range=0.1, horizontal_flip=True)\n",
        "train_data = train_datagen.flow(x=np.asarray(X_train), y=y_train, batch_size=32)\n",
        "\n",
        "test_datagen = ImageDataGenerator(rescale=1/255)\n",
        "test_data = test_datagen.flow(np.asarray(X_test), y_test, batch_size=32)"
      ],
      "metadata": {
        "id": "i26abxl2W89l"
      },
      "execution_count": null,
      "outputs": []
    },
    {
      "cell_type": "code",
      "source": [
        "model.summary()"
      ],
      "metadata": {
        "colab": {
          "base_uri": "https://localhost:8080/"
        },
        "id": "omPt2NwjAnCT",
        "outputId": "ea65946b-5b35-493f-e2e1-e495e9726f2c"
      },
      "execution_count": null,
      "outputs": [
        {
          "output_type": "stream",
          "name": "stdout",
          "text": [
            "Model: \"sequential_7\"\n",
            "_________________________________________________________________\n",
            " Layer (type)                Output Shape              Param #   \n",
            "=================================================================\n",
            " conv2d_27 (Conv2D)          (None, 46, 46, 32)        320       \n",
            "                                                                 \n",
            " conv2d_28 (Conv2D)          (None, 44, 44, 64)        18496     \n",
            "                                                                 \n",
            " batch_normalization_12 (Bat  (None, 44, 44, 64)       256       \n",
            " chNormalization)                                                \n",
            "                                                                 \n",
            " max_pooling2d_15 (MaxPoolin  (None, 22, 22, 64)       0         \n",
            " g2D)                                                            \n",
            "                                                                 \n",
            " dropout_18 (Dropout)        (None, 22, 22, 64)        0         \n",
            "                                                                 \n",
            " conv2d_29 (Conv2D)          (None, 20, 20, 128)       73856     \n",
            "                                                                 \n",
            " conv2d_30 (Conv2D)          (None, 18, 18, 256)       295168    \n",
            "                                                                 \n",
            " batch_normalization_13 (Bat  (None, 18, 18, 256)      1024      \n",
            " chNormalization)                                                \n",
            "                                                                 \n",
            " max_pooling2d_16 (MaxPoolin  (None, 9, 9, 256)        0         \n",
            " g2D)                                                            \n",
            "                                                                 \n",
            " dropout_19 (Dropout)        (None, 9, 9, 256)         0         \n",
            "                                                                 \n",
            " flatten_7 (Flatten)         (None, 20736)             0         \n",
            "                                                                 \n",
            " dense_20 (Dense)            (None, 1024)              21234688  \n",
            "                                                                 \n",
            " dense_21 (Dense)            (None, 512)               524800    \n",
            "                                                                 \n",
            " dropout_20 (Dropout)        (None, 512)               0         \n",
            "                                                                 \n",
            " dense_22 (Dense)            (None, 1)                 513       \n",
            "                                                                 \n",
            "=================================================================\n",
            "Total params: 22,149,121\n",
            "Trainable params: 22,148,481\n",
            "Non-trainable params: 640\n",
            "_________________________________________________________________\n"
          ]
        }
      ]
    },
    {
      "cell_type": "code",
      "source": [
        "model.fit(train_data, validation_data=test_data, epochs=50, steps_per_epoch=train_data.n//train_data.batch_size, validation_steps=test_data.n//test_data.batch_size)"
      ],
      "metadata": {
        "colab": {
          "base_uri": "https://localhost:8080/"
        },
        "id": "s9kG1hVx_-ZS",
        "outputId": "b3903ba0-43a5-44ca-bbff-27163eb6acc5"
      },
      "execution_count": null,
      "outputs": [
        {
          "output_type": "stream",
          "name": "stdout",
          "text": [
            "Epoch 1/50\n",
            "593/593 [==============================] - 15s 24ms/step - loss: 345.1856 - mae: 13.8811 - val_loss: 331.5027 - val_mae: 14.7113\n",
            "Epoch 2/50\n",
            "593/593 [==============================] - 14s 24ms/step - loss: 208.3714 - mae: 10.7631 - val_loss: 345.8792 - val_mae: 13.4171\n",
            "Epoch 3/50\n",
            "593/593 [==============================] - 14s 24ms/step - loss: 162.9843 - mae: 9.4379 - val_loss: 135.7155 - val_mae: 8.3539\n",
            "Epoch 4/50\n",
            "593/593 [==============================] - 15s 26ms/step - loss: 143.5459 - mae: 8.8273 - val_loss: 131.5305 - val_mae: 8.2651\n",
            "Epoch 5/50\n",
            "593/593 [==============================] - 14s 24ms/step - loss: 129.4016 - mae: 8.3725 - val_loss: 202.3832 - val_mae: 11.1621\n",
            "Epoch 6/50\n",
            "593/593 [==============================] - 14s 24ms/step - loss: 123.3668 - mae: 8.0910 - val_loss: 126.7820 - val_mae: 8.0723\n",
            "Epoch 7/50\n",
            "593/593 [==============================] - 14s 24ms/step - loss: 113.5288 - mae: 7.7967 - val_loss: 94.9262 - val_mae: 7.1280\n",
            "Epoch 8/50\n",
            "593/593 [==============================] - 14s 24ms/step - loss: 108.8433 - mae: 7.6500 - val_loss: 101.2626 - val_mae: 7.4977\n",
            "Epoch 9/50\n",
            "593/593 [==============================] - 14s 24ms/step - loss: 108.2270 - mae: 7.5935 - val_loss: 172.3641 - val_mae: 10.3254\n",
            "Epoch 10/50\n",
            "593/593 [==============================] - 14s 24ms/step - loss: 105.7130 - mae: 7.5034 - val_loss: 132.3690 - val_mae: 8.9269\n",
            "Epoch 11/50\n",
            "593/593 [==============================] - 14s 24ms/step - loss: 101.8931 - mae: 7.3570 - val_loss: 148.8910 - val_mae: 9.6840\n",
            "Epoch 12/50\n",
            "593/593 [==============================] - 15s 25ms/step - loss: 99.1196 - mae: 7.2567 - val_loss: 96.3894 - val_mae: 6.9292\n",
            "Epoch 13/50\n",
            "593/593 [==============================] - 14s 24ms/step - loss: 97.3345 - mae: 7.1592 - val_loss: 180.7389 - val_mae: 10.3360\n",
            "Epoch 14/50\n",
            "593/593 [==============================] - 14s 24ms/step - loss: 93.1672 - mae: 7.0032 - val_loss: 177.1943 - val_mae: 10.5639\n",
            "Epoch 15/50\n",
            "593/593 [==============================] - 14s 23ms/step - loss: 93.1451 - mae: 7.0074 - val_loss: 282.9255 - val_mae: 13.6798\n",
            "Epoch 16/50\n",
            "593/593 [==============================] - 18s 30ms/step - loss: 91.2788 - mae: 6.9611 - val_loss: 99.8474 - val_mae: 6.9913\n",
            "Epoch 17/50\n",
            "593/593 [==============================] - 14s 24ms/step - loss: 89.8935 - mae: 6.8380 - val_loss: 86.6472 - val_mae: 6.6836\n",
            "Epoch 18/50\n",
            "593/593 [==============================] - 14s 24ms/step - loss: 88.2654 - mae: 6.8003 - val_loss: 96.9602 - val_mae: 6.9316\n",
            "Epoch 19/50\n",
            "593/593 [==============================] - 14s 23ms/step - loss: 86.3270 - mae: 6.7183 - val_loss: 82.2167 - val_mae: 6.3547\n",
            "Epoch 20/50\n",
            "593/593 [==============================] - 14s 24ms/step - loss: 87.3062 - mae: 6.7273 - val_loss: 71.0401 - val_mae: 6.0607\n",
            "Epoch 21/50\n",
            "593/593 [==============================] - 14s 24ms/step - loss: 82.8884 - mae: 6.5899 - val_loss: 122.6114 - val_mae: 7.5864\n",
            "Epoch 22/50\n",
            "593/593 [==============================] - 14s 24ms/step - loss: 82.4222 - mae: 6.5377 - val_loss: 135.1615 - val_mae: 8.0980\n",
            "Epoch 23/50\n",
            "593/593 [==============================] - 14s 24ms/step - loss: 81.7501 - mae: 6.5115 - val_loss: 74.1595 - val_mae: 6.0591\n",
            "Epoch 24/50\n",
            "593/593 [==============================] - 14s 24ms/step - loss: 79.3503 - mae: 6.4158 - val_loss: 217.4922 - val_mae: 10.4747\n",
            "Epoch 25/50\n",
            "593/593 [==============================] - 14s 24ms/step - loss: 77.9740 - mae: 6.3766 - val_loss: 234.2414 - val_mae: 11.9628\n",
            "Epoch 26/50\n",
            "593/593 [==============================] - 14s 24ms/step - loss: 79.5024 - mae: 6.4267 - val_loss: 77.6061 - val_mae: 6.1726\n",
            "Epoch 27/50\n",
            "593/593 [==============================] - 14s 24ms/step - loss: 77.9872 - mae: 6.3758 - val_loss: 116.0060 - val_mae: 7.9409\n",
            "Epoch 28/50\n",
            "593/593 [==============================] - 14s 24ms/step - loss: 76.7020 - mae: 6.3144 - val_loss: 93.2087 - val_mae: 6.8864\n",
            "Epoch 29/50\n",
            "593/593 [==============================] - 14s 23ms/step - loss: 77.7813 - mae: 6.3380 - val_loss: 77.8200 - val_mae: 6.2699\n",
            "Epoch 30/50\n",
            "593/593 [==============================] - 14s 23ms/step - loss: 75.3025 - mae: 6.2562 - val_loss: 69.7569 - val_mae: 5.9560\n",
            "Epoch 31/50\n",
            "593/593 [==============================] - 14s 23ms/step - loss: 75.1077 - mae: 6.2421 - val_loss: 104.8749 - val_mae: 7.1069\n",
            "Epoch 32/50\n",
            "593/593 [==============================] - 14s 24ms/step - loss: 74.7143 - mae: 6.2407 - val_loss: 135.7905 - val_mae: 8.5399\n",
            "Epoch 33/50\n",
            "593/593 [==============================] - 17s 29ms/step - loss: 72.3960 - mae: 6.1441 - val_loss: 75.1882 - val_mae: 6.0286\n",
            "Epoch 34/50\n",
            "593/593 [==============================] - 14s 24ms/step - loss: 73.6842 - mae: 6.1906 - val_loss: 171.0367 - val_mae: 10.1646\n",
            "Epoch 35/50\n",
            "593/593 [==============================] - 14s 23ms/step - loss: 71.9698 - mae: 6.1245 - val_loss: 75.4674 - val_mae: 6.2236\n",
            "Epoch 36/50\n",
            "593/593 [==============================] - 14s 23ms/step - loss: 70.6730 - mae: 6.0837 - val_loss: 197.6568 - val_mae: 11.0061\n",
            "Epoch 37/50\n",
            "593/593 [==============================] - 14s 23ms/step - loss: 70.0664 - mae: 6.0353 - val_loss: 95.6177 - val_mae: 7.0114\n",
            "Epoch 38/50\n",
            "593/593 [==============================] - 14s 23ms/step - loss: 72.7424 - mae: 6.1386 - val_loss: 151.8378 - val_mae: 9.4457\n",
            "Epoch 39/50\n",
            "593/593 [==============================] - 14s 24ms/step - loss: 68.5219 - mae: 5.9666 - val_loss: 154.8449 - val_mae: 9.4207\n",
            "Epoch 40/50\n",
            "593/593 [==============================] - 14s 24ms/step - loss: 69.3652 - mae: 6.0073 - val_loss: 67.1792 - val_mae: 5.7390\n",
            "Epoch 41/50\n",
            "593/593 [==============================] - 14s 23ms/step - loss: 70.6094 - mae: 6.0652 - val_loss: 90.6380 - val_mae: 7.0351\n",
            "Epoch 42/50\n",
            "593/593 [==============================] - 14s 23ms/step - loss: 69.7229 - mae: 6.0230 - val_loss: 84.1243 - val_mae: 6.5498\n",
            "Epoch 43/50\n",
            "593/593 [==============================] - 14s 23ms/step - loss: 69.6098 - mae: 6.0104 - val_loss: 120.1896 - val_mae: 7.6906\n",
            "Epoch 44/50\n",
            "593/593 [==============================] - 14s 23ms/step - loss: 68.3190 - mae: 5.9629 - val_loss: 74.0760 - val_mae: 5.9489\n",
            "Epoch 45/50\n",
            "593/593 [==============================] - 14s 23ms/step - loss: 69.6492 - mae: 6.0011 - val_loss: 98.0173 - val_mae: 6.7638\n",
            "Epoch 46/50\n",
            "593/593 [==============================] - 14s 23ms/step - loss: 66.6342 - mae: 5.8853 - val_loss: 117.1779 - val_mae: 8.1081\n",
            "Epoch 47/50\n",
            "593/593 [==============================] - 14s 24ms/step - loss: 64.5933 - mae: 5.8036 - val_loss: 75.3365 - val_mae: 6.0918\n",
            "Epoch 48/50\n",
            "593/593 [==============================] - 14s 24ms/step - loss: 65.8532 - mae: 5.8196 - val_loss: 119.2568 - val_mae: 8.1757\n",
            "Epoch 49/50\n",
            "593/593 [==============================] - 15s 26ms/step - loss: 65.0636 - mae: 5.8446 - val_loss: 65.9486 - val_mae: 5.7308\n",
            "Epoch 50/50\n",
            "593/593 [==============================] - 14s 23ms/step - loss: 64.3735 - mae: 5.8146 - val_loss: 65.6036 - val_mae: 5.6383\n"
          ]
        },
        {
          "output_type": "execute_result",
          "data": {
            "text/plain": [
              "<keras.callbacks.History at 0x7f216c1effd0>"
            ]
          },
          "metadata": {},
          "execution_count": 43
        }
      ]
    },
    {
      "cell_type": "code",
      "source": [
        "model.evaluate(test_data)"
      ],
      "metadata": {
        "colab": {
          "base_uri": "https://localhost:8080/"
        },
        "id": "sYtEOnBqKpHx",
        "outputId": "86c9b312-c2dd-4159-9884-7e66d8cfe43f"
      },
      "execution_count": null,
      "outputs": [
        {
          "output_type": "stream",
          "name": "stdout",
          "text": [
            "148/148 [==============================] - 1s 7ms/step - loss: 65.5842 - mae: 5.6375\n"
          ]
        },
        {
          "output_type": "execute_result",
          "data": {
            "text/plain": [
              "[65.58424377441406, 5.6374945640563965]"
            ]
          },
          "metadata": {},
          "execution_count": 44
        }
      ]
    },
    {
      "cell_type": "code",
      "source": [
        "model.save('/content/age', save_format='h5')"
      ],
      "metadata": {
        "id": "YNFElIKiLYOR"
      },
      "execution_count": null,
      "outputs": []
    }
  ]
}