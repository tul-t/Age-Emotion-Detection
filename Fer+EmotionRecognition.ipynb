{
  "cells": [
    {
      "cell_type": "markdown",
      "source": [
        "Import required libraries for training the model"
      ],
      "metadata": {
        "id": "sjM4V73E0q2-"
      }
    },
    {
      "cell_type": "code",
      "execution_count": null,
      "metadata": {
        "id": "py66JWyboYQL"
      },
      "outputs": [],
      "source": [
        "import pandas as pd\n",
        "from tensorflow.keras.preprocessing.image import ImageDataGenerator\n",
        "import tensorflow as tf\n",
        "import numpy as np"
      ]
    },
    {
      "cell_type": "code",
      "source": [
        "!unzip /content/drive/MyDrive/archive.zip"
      ],
      "metadata": {
        "id": "eqgpQxPD6NOf"
      },
      "execution_count": null,
      "outputs": []
    },
    {
      "cell_type": "markdown",
      "source": [
        "Prepare data from the files which are in image format for training, Image data generator generates images with different zoom scales and flips them on their axes to create new images from existing ones which help improve model accuracy"
      ],
      "metadata": {
        "id": "nXpoQXTb1Vil"
      }
    },
    {
      "cell_type": "code",
      "source": [
        "train_datagen = ImageDataGenerator(rescale=1/255,\n",
        "                                   zoom_range = 0.3, rotation_range=20, shear_range=0.2,\n",
        "                                   horizontal_flip=True)\n",
        "\n",
        "train_data = train_datagen.flow_from_directory('/content/train', batch_size=64, target_size=(48, 48), shuffle=True, color_mode='grayscale', class_mode='categorical')\n",
        "\n",
        "test_datagen = ImageDataGenerator(rescale=1/255)\n",
        "\n",
        "test_data = test_datagen.flow_from_directory('/content/test', batch_size=64, target_size=(48, 48), shuffle=True, color_mode='grayscale', class_mode='categorical')\n"
      ],
      "metadata": {
        "id": "zzBXRUfGhrzF",
        "colab": {
          "base_uri": "https://localhost:8080/"
        },
        "outputId": "6be53308-ff38-4acc-9860-e069e699115a"
      },
      "execution_count": null,
      "outputs": [
        {
          "output_type": "stream",
          "name": "stdout",
          "text": [
            "Found 28709 images belonging to 7 classes.\n",
            "Found 7178 images belonging to 7 classes.\n"
          ]
        }
      ]
    },
    {
      "cell_type": "markdown",
      "source": [
        "Classes which the model predicts on\n"
      ],
      "metadata": {
        "id": "YRueKbA71jDJ"
      }
    },
    {
      "cell_type": "code",
      "source": [
        "train_data.class_indices"
      ],
      "metadata": {
        "colab": {
          "base_uri": "https://localhost:8080/"
        },
        "id": "fjKuXw2zjfLh",
        "outputId": "898d5786-94ea-4bd5-acbd-e00de2416c80"
      },
      "execution_count": null,
      "outputs": [
        {
          "output_type": "execute_result",
          "data": {
            "text/plain": [
              "{'angry': 0,\n",
              " 'disgust': 1,\n",
              " 'fear': 2,\n",
              " 'happy': 3,\n",
              " 'neutral': 4,\n",
              " 'sad': 5,\n",
              " 'surprise': 6}"
            ]
          },
          "metadata": {},
          "execution_count": 5
        }
      ]
    },
    {
      "cell_type": "markdown",
      "source": [
        "Model for detecting emotions\n",
        "\n",
        "Contains two sets of CNNs with 2 sets of Convulutional 2D layers and a pooling layer which helps scale dimensions of the image while training.\n",
        "\n",
        "Batch normalization and dropout help reduce overfitting and make the model more accurate"
      ],
      "metadata": {
        "id": "5TyXA2zx1m6P"
      }
    },
    {
      "cell_type": "code",
      "source": [
        "import tensorflow as tf\n",
        "\n",
        "model = tf.keras.Sequential([\n",
        "    tf.keras.layers.Conv2D(32, kernel_size=(3, 3), activation='relu', input_shape=(48, 48, 1)),\n",
        "    tf.keras.layers.Conv2D(64, kernel_size=(3, 3), activation='relu'),\n",
        "    tf.keras.layers.BatchNormalization(),\n",
        "    tf.keras.layers.MaxPooling2D((2, 2)),\n",
        "    tf.keras.layers.Dropout(0.25),\n",
        "\n",
        "    tf.keras.layers.Conv2D(128, kernel_size=(3, 3), activation='relu'),\n",
        "    tf.keras.layers.Conv2D(256, kernel_size=(3, 3), activation='relu'),\n",
        "    tf.keras.layers.BatchNormalization(),\n",
        "    tf.keras.layers.MaxPooling2D((2, 2)),\n",
        "    tf.keras.layers.Dropout(0.25),\n",
        "\n",
        "    tf.keras.layers.Flatten(),\n",
        "    tf.keras.layers.Dense(1024, activation='relu'),\n",
        "    tf.keras.layers.Dense(512, activation='relu'),\n",
        "    tf.keras.layers.Dropout(0.25),\n",
        "    tf.keras.layers.Dense(7, activation='softmax'),\n",
        "])"
      ],
      "metadata": {
        "id": "ev7ihCSqklM-"
      },
      "execution_count": null,
      "outputs": []
    },
    {
      "cell_type": "markdown",
      "source": [
        "Compile the model with required loss functions, optimizer for training"
      ],
      "metadata": {
        "id": "WvvRekdH3q_V"
      }
    },
    {
      "cell_type": "code",
      "source": [
        "model.compile(loss=tf.keras.losses.CategoricalCrossentropy(),\n",
        "              optimizer=tf.keras.optimizers.Adam(lr=0.0001),\n",
        "              metrics=['accuracy'])"
      ],
      "metadata": {
        "colab": {
          "base_uri": "https://localhost:8080/"
        },
        "id": "U1mq0IXx6FeT",
        "outputId": "1bfe655e-0fff-4ae5-fedf-462b4d428081"
      },
      "execution_count": null,
      "outputs": [
        {
          "output_type": "stream",
          "name": "stderr",
          "text": [
            "WARNING:absl:`lr` is deprecated in Keras optimizer, please use `learning_rate` or use the legacy optimizer, e.g.,tf.keras.optimizers.legacy.Adam.\n"
          ]
        }
      ]
    },
    {
      "cell_type": "code",
      "source": [
        "model.summary()"
      ],
      "metadata": {
        "colab": {
          "base_uri": "https://localhost:8080/"
        },
        "id": "Vv6xPpzs6eFb",
        "outputId": "42293c58-9772-48a6-a121-e626e19ab82c"
      },
      "execution_count": null,
      "outputs": [
        {
          "output_type": "stream",
          "name": "stdout",
          "text": [
            "Model: \"sequential\"\n",
            "_________________________________________________________________\n",
            " Layer (type)                Output Shape              Param #   \n",
            "=================================================================\n",
            " conv2d (Conv2D)             (None, 46, 46, 32)        320       \n",
            "                                                                 \n",
            " conv2d_1 (Conv2D)           (None, 44, 44, 64)        18496     \n",
            "                                                                 \n",
            " batch_normalization (BatchN  (None, 44, 44, 64)       256       \n",
            " ormalization)                                                   \n",
            "                                                                 \n",
            " max_pooling2d (MaxPooling2D  (None, 22, 22, 64)       0         \n",
            " )                                                               \n",
            "                                                                 \n",
            " dropout (Dropout)           (None, 22, 22, 64)        0         \n",
            "                                                                 \n",
            " conv2d_2 (Conv2D)           (None, 20, 20, 128)       73856     \n",
            "                                                                 \n",
            " conv2d_3 (Conv2D)           (None, 18, 18, 256)       295168    \n",
            "                                                                 \n",
            " batch_normalization_1 (Batc  (None, 18, 18, 256)      1024      \n",
            " hNormalization)                                                 \n",
            "                                                                 \n",
            " max_pooling2d_1 (MaxPooling  (None, 9, 9, 256)        0         \n",
            " 2D)                                                             \n",
            "                                                                 \n",
            " dropout_1 (Dropout)         (None, 9, 9, 256)         0         \n",
            "                                                                 \n",
            " flatten (Flatten)           (None, 20736)             0         \n",
            "                                                                 \n",
            " dense (Dense)               (None, 1024)              21234688  \n",
            "                                                                 \n",
            " dense_1 (Dense)             (None, 512)               524800    \n",
            "                                                                 \n",
            " dropout_2 (Dropout)         (None, 512)               0         \n",
            "                                                                 \n",
            " dense_2 (Dense)             (None, 7)                 3591      \n",
            "                                                                 \n",
            "=================================================================\n",
            "Total params: 22,152,199\n",
            "Trainable params: 22,151,559\n",
            "Non-trainable params: 640\n",
            "_________________________________________________________________\n"
          ]
        }
      ]
    },
    {
      "cell_type": "markdown",
      "source": [
        "Add callback to stop training when best accuracy metrics are obtained"
      ],
      "metadata": {
        "id": "qRdXdacw1yKe"
      }
    },
    {
      "cell_type": "code",
      "source": [
        "early_stop = tf.keras.callbacks.EarlyStopping(\n",
        "    monitor=\"val_accuracy\",\n",
        "    min_delta=1,\n",
        "    patience=1,\n",
        "    verbose=0,\n",
        "    mode=\"auto\",\n",
        "    baseline=None,\n",
        "    restore_best_weights=True,\n",
        "    start_from_epoch=10,\n",
        ")"
      ],
      "metadata": {
        "id": "hd5veKvoBwwp"
      },
      "execution_count": null,
      "outputs": []
    },
    {
      "cell_type": "markdown",
      "source": [
        "Train model"
      ],
      "metadata": {
        "id": "IBySHTaA11Vj"
      }
    },
    {
      "cell_type": "code",
      "source": [
        "history = model.fit(train_data, validation_data=test_data, epochs=10, callbacks=[early_stop],steps_per_epoch=train_data.n//train_data.batch_size, validation_steps=test_data.n//test_data.batch_size)"
      ],
      "metadata": {
        "colab": {
          "base_uri": "https://localhost:8080/"
        },
        "id": "0m0qTmOf9Ys8",
        "outputId": "6055de02-cf5a-4ae8-cb2c-7fe7c899097b"
      },
      "execution_count": null,
      "outputs": [
        {
          "output_type": "stream",
          "name": "stdout",
          "text": [
            "Epoch 1/10\n",
            "448/448 [==============================] - 31s 69ms/step - loss: 0.7699 - accuracy: 0.7195 - val_loss: 1.1233 - val_accuracy: 0.6359\n",
            "Epoch 2/10\n",
            "448/448 [==============================] - 29s 64ms/step - loss: 0.7490 - accuracy: 0.7263 - val_loss: 1.1622 - val_accuracy: 0.6342\n",
            "Epoch 3/10\n",
            "448/448 [==============================] - 31s 69ms/step - loss: 0.7441 - accuracy: 0.7305 - val_loss: 1.1544 - val_accuracy: 0.6458\n",
            "Epoch 4/10\n",
            "448/448 [==============================] - 29s 64ms/step - loss: 0.7406 - accuracy: 0.7303 - val_loss: 1.1567 - val_accuracy: 0.6415\n",
            "Epoch 5/10\n",
            "448/448 [==============================] - 29s 65ms/step - loss: 0.7263 - accuracy: 0.7369 - val_loss: 1.1795 - val_accuracy: 0.6349\n",
            "Epoch 6/10\n",
            "448/448 [==============================] - 29s 66ms/step - loss: 0.7233 - accuracy: 0.7361 - val_loss: 1.1708 - val_accuracy: 0.6394\n",
            "Epoch 7/10\n",
            "448/448 [==============================] - 29s 65ms/step - loss: 0.7149 - accuracy: 0.7387 - val_loss: 1.1617 - val_accuracy: 0.6396\n",
            "Epoch 8/10\n",
            "448/448 [==============================] - 33s 74ms/step - loss: 0.7112 - accuracy: 0.7423 - val_loss: 1.1584 - val_accuracy: 0.6409\n",
            "Epoch 9/10\n",
            "448/448 [==============================] - 29s 64ms/step - loss: 0.7114 - accuracy: 0.7418 - val_loss: 1.1696 - val_accuracy: 0.6388\n",
            "Epoch 10/10\n",
            "448/448 [==============================] - 29s 65ms/step - loss: 0.7066 - accuracy: 0.7436 - val_loss: 1.1394 - val_accuracy: 0.6398\n"
          ]
        }
      ]
    },
    {
      "cell_type": "code",
      "source": [
        "import matplotlib.pyplot as plt\n",
        "plt.plot(history.history['accuracy'])\n",
        "plt.plot(history.history['val_accuracy'])"
      ],
      "metadata": {
        "colab": {
          "base_uri": "https://localhost:8080/",
          "height": 447
        },
        "id": "gbXmxlogD7AI",
        "outputId": "dbc5c593-e1dd-463c-b661-cb1db355f570"
      },
      "execution_count": null,
      "outputs": [
        {
          "output_type": "execute_result",
          "data": {
            "text/plain": [
              "[<matplotlib.lines.Line2D at 0x785c0a63b6d0>]"
            ]
          },
          "metadata": {},
          "execution_count": 20
        },
        {
          "output_type": "display_data",
          "data": {
            "text/plain": [
              "<Figure size 640x480 with 1 Axes>"
            ],
            "image/png": "[encoded data removed]"
          },
          "metadata": {}
        }
      ]
    },
    {
      "cell_type": "code",
      "source": [
        "model.save('/content/model', save_format='h5')"
      ],
      "metadata": {
        "id": "ce3IkP_blnat"
      },
      "execution_count": null,
      "outputs": []
    }
  ],
  "metadata": {
    "colab": {
      "provenance": [],
      "gpuType": "T4"
    },
    "kernelspec": {
      "display_name": "Python 3",
      "name": "python3"
    },
    "language_info": {
      "name": "python"
    },
    "accelerator": "GPU"
  },
  "nbformat": 4,
  "nbformat_minor": 0
}